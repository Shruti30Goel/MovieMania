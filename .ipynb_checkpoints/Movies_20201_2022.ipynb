import pandas as pd
import numpy as np

# 2021

link = "https://en.wikipedia.org/wiki/List_of_American_films_of_2021"
df1 = pd.read_html(link, header=0)[2]
df2 = pd.read_html(link, header=0)[3]
df3 = pd.read_html(link, header=0)[4]
df4 = pd.read_html(link, header=0)[5]

df = df1.append(df2.append(df3.append(df4,ignore_index=True),ignore_index=True),ignore_index=True)

! pip install tmdbv3api

from tmdbv3api import TMDb
import json
import requests
tmdb = TMDb()
tmdb.api_key = '76d9e7057c5b2a49d4234f80154f044e'

df

from tmdbv3api import Movie
tmdb_movie = Movie()
def get_genre(x):
    genres = []
    result = tmdb_movie.search(x)
    if len(result) ==0:
        return np.NaN
    print(type(result),len(result))
    movie_id = result[0].id
    response = requests.get('https://api.themoviedb.org/3/movie/550?api_key=76d9e7057c5b2a49d4234f80154f044e'.format(movie_id,tmdb.api_key))
    data_json = response.json()
    if data_json['genres']:
        genre_str = " "
        for i in range(0,len(data_json['genres'])):
            genres.append(data_json['genres'][i]['name'])
        return genre_str.join(genres)
    else:
        np.NaN

df['Genre'] = df['Title'].map(lambda x: get_genre(str(x)))

df_2021 = df[['Title','Cast and crew','Genre']]

df_2021

def get_director(x):
    if " (director)" in x:
        return x.split(" (director)")[0]
    elif " (directors)" in x:
        return x.split(" (directors)")[0]
    else:
        return x.split(" (director/screenplay)")[0]

df_2021['director_name'] = df_2021['Cast and crew'].map(lambda x: get_director(x))

def get_actor1(x):
    return ((x.split("screenplay); ")[-1]).split(", ")[0])

df_2021['actor_1_name'] = df_2021['Cast and crew'].map(lambda x: get_actor1(x))

def get_actor2(x):
    if len((x.split("screenplay); ")[-1]).split(", ")) < 2:
        return np.NaN
    else:
        return ((x.split("screenplay); ")[-1]).split(", ")[1])

df_2021['actor_2_name'] = df_2021['Cast and crew'].map(lambda x: get_actor2(x))

def get_actor3(x):
    if len((x.split("screenplay); ")[-1]).split(", ")) < 3:
        return np.NaN
    else:
        return ((x.split("screenplay); ")[-1]).split(", ")[2])

df_2021['actor_3_name'] = df_2021['Cast and crew'].map(lambda x: get_actor3(x))

df_2021

df_2021 = df_2021.rename(columns={'Title':'movie_title'})

new_df21 = df_2021.loc[:,['director_name','actor_1_name','actor_2_name','actor_3_name','Genre','movie_title']]

new_df21

new_df21['actor_2_name'] = new_df21['actor_2_name'].replace(np.nan, 'unknown')
new_df21['actor_3_name'] = new_df21['actor_3_name'].replace(np.nan, 'unknown')

new_df21['movie_title'] = new_df21['movie_title'].str.lower()

new_df21['comb'] = new_df21['actor_1_name'] + ' ' + new_df21['actor_2_name'] + ' ' + new_df21['actor_3_name'] + ' ' + new_df21['director_name'] + ' ' + new_df21['Genre'] + ' ' + new_df21['movie_title']

new_df21

# 2022

link = "https://en.wikipedia.org/wiki/List_of_American_films_of_2022"
df1 = pd.read_html(link, header=0)[2]
df2 = pd.read_html(link, header=0)[3]
df3 = pd.read_html(link, header=0)[4]
df4 = pd.read_html(link, header=0)[5]

df = df1.append(df2.append(df3.append(df4,ignore_index=True),ignore_index=True),ignore_index=True)

df

! pip install tmdbv3api

from tmdbv3api import TMDb
import json
import requests
tmdb = TMDb()
tmdb.api_key = '76d9e7057c5b2a49d4234f80154f044e'

from tmdbv3api import Movie
tmdb_movie = Movie()
def get_genre(x):
    genres = []
    result = tmdb_movie.search(x)
    movie_id = result[0].id
    response = requests.get('https://api.themoviedb.org/3/movie/550?api_key=76d9e7057c5b2a49d4234f80154f044e'.format(movie_id,tmdb.api_key))
    data_json = response.json()
    if data_json['genres']:
        genre_str = " "
        for i in range(0,len(data_json['genres'])):
            genres.append(data_json['genres'][i]['name'])
        return genre_str.join(genres)
    else:
        np.NaN

df['Genre'] = df['Title'].map(lambda x: get_genre(str(x)))

df_2022 = df[['Title','Cast and crew','Genre']]

df_2022

def get_director(x):
    if " (director)" in x:
        return x.split(" (director)")[0]
    elif " (directors)" in x:
        return x.split(" (directors)")[0]
    else:
        return x.split(" (director/screenplay)")[0]

df_2022['director_name'] = df_2022['Cast and crew'].map(lambda x: get_director(x))

def get_actor1(x):
    return ((x.split("screenplay); ")[-1]).split(", ")[0])

df_2022['actor_1_name'] = df_2022['Cast and crew'].map(lambda x: get_actor1(x))

def get_actor2(x):
    if len((x.split("screenplay); ")[-1]).split(", ")) < 2:
        return np.NaN
    else:
        return ((x.split("screenplay); ")[-1]).split(", ")[1])

df_2022['actor_2_name'] = df_2022['Cast and crew'].map(lambda x: get_actor2(x))

def get_actor3(x):
    if len((x.split("screenplay); ")[-1]).split(", ")) < 3:
        return np.NaN
    else:
        return ((x.split("screenplay); ")[-1]).split(", ")[2])

df_2022['actor_3_name'] = df_2022['Cast and crew'].map(lambda x: get_actor3(x))

df_2022

df_2022 = df_2022.rename(columns={'Title':'movie_title'})

new_df22 = df_2022.loc[:,['director_name','actor_1_name','actor_2_name','actor_3_name','Genre','movie_title']]

new_df22

new_df22['actor_2_name'] = new_df22['actor_2_name'].replace(np.nan, 'unknown')
new_df22['actor_3_name'] = new_df22['actor_3_name'].replace(np.nan, 'unknown')

new_df22['movie_title'] = new_df22['movie_title'].str.lower()

new_df22['comb'] = new_df22['actor_1_name'] + ' ' + new_df22['actor_2_name'] + ' ' + new_df22['actor_3_name'] + ' ' + new_df22['director_name'] + ' ' + new_df22['Genre'] + ' ' + new_df22['movie_title']

new_df22


